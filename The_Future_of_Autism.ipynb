{
  "metadata": {
    "kernelspec": {
      "name": "ir",
      "display_name": "R",
      "language": "R"
    },
    "language_info": {
      "name": "R",
      "codemirror_mode": "r",
      "pygments_lexer": "r",
      "mimetype": "text/x-r-source",
      "file_extension": ".r",
      "version": "4.0.5"
    },
    "kaggle": {
      "accelerator": "none",
      "dataSources": [
        {
          "sourceId": 7740048,
          "sourceType": "datasetVersion",
          "datasetId": 4512103
        }
      ],
      "dockerImageVersionId": 30618,
      "isInternetEnabled": true,
      "language": "r",
      "sourceType": "notebook",
      "isGpuEnabled": false
    },
    "colab": {
      "name": "The Future of Autism",
      "provenance": [],
      "include_colab_link": true
    }
  },
  "nbformat_minor": 0,
  "nbformat": 4,
  "cells": [
    {
      "cell_type": "markdown",
      "metadata": {
        "id": "view-in-github",
        "colab_type": "text"
      },
      "source": [
        "<a href=\"https://colab.research.google.com/github/KarMarsten/Autism/blob/main/The_Future_of_Autism.ipynb\" target=\"_parent\"><img src=\"https://colab.research.google.com/assets/colab-badge.svg\" alt=\"Open In Colab\"/></a>"
      ]
    },
    {
      "source": [
        "\n",
        "# IMPORTANT: RUN THIS CELL IN ORDER TO IMPORT YOUR KAGGLE DATA SOURCES\n",
        "# TO THE CORRECT LOCATION (/kaggle/input) IN YOUR NOTEBOOK,\n",
        "# THEN FEEL FREE TO DELETE THIS CELL.\n",
        "# NOTE: THIS NOTEBOOK ENVIRONMENT DIFFERS FROM KAGGLE'S R\n",
        "# ENVIRONMENT SO THERE MAY BE MISSING LIBRARIES USED BY YOUR\n",
        "# NOTEBOOK.\n",
        "\n",
        "DATA_SOURCE_MAPPING = 'autism-files:https%3A%2F%2Fstorage.googleapis.com%2Fkaggle-data-sets%2F4512103%2F7740048%2Fbundle%2Farchive.zip%3FX-Goog-Algorithm%3DGOOG4-RSA-SHA256%26X-Goog-Credential%3Dgcp-kaggle-com%2540kaggle-161607.iam.gserviceaccount.com%252F20240301%252Fauto%252Fstorage%252Fgoog4_request%26X-Goog-Date%3D20240301T233906Z%26X-Goog-Expires%3D259200%26X-Goog-SignedHeaders%3Dhost%26X-Goog-Signature%3D858d7aa76cb01c06399330f9181c4aa5f840592d982df4fe970dbe32745aab967ed1acb356a70e4ac3be595493c8c609f5a52e92e2fe3f66d81a4446c98405d9a6afda8b66dc5b2c8048c5595237964d2f049bf138e9049efcedb5ac8e5414cc4e2655b956d8828ee333114179145096256fa44d2051c837814488a684cc2c077b74d7c7663f126d2ac8ab8347717dd2c954517b985af84cb5339f935547c30a1a01ad5d27993dca35bc1a531d0b1f4918f60729192ee3164693e88b0d2051a5113ff1ebff3613437fe2e109f2b3a10791292a770d5ac18daa5befdb563497c01549a67793ec0e7c5e2335666835930c59d1af5df8d5e2a996add87404129519'\n",
        "\n",
        "KAGGLE_INPUT_PATH = '/kaggle/input'\n",
        "KAGGLE_WORKING_PATH = '/kaggle/working'\n",
        "\n",
        "system(paste0('sudo umount ', '/kaggle/input'))\n",
        "system(paste0('sudo rmdir ', '/kaggle/input'))\n",
        "system(paste0('sudo mkdir -p -- ', KAGGLE_INPUT_PATH), intern=TRUE)\n",
        "system(paste0('sudo chmod 777 ', KAGGLE_INPUT_PATH), intern=TRUE)\n",
        "system(\n",
        "  paste0('sudo ln -sfn ', KAGGLE_INPUT_PATH,' ',file.path('..', 'input')),\n",
        "  intern=TRUE)\n",
        "\n",
        "system(paste0('sudo mkdir -p -- ', KAGGLE_WORKING_PATH), intern=TRUE)\n",
        "system(paste0('sudo chmod 777 ', KAGGLE_WORKING_PATH), intern=TRUE)\n",
        "system(\n",
        "  paste0('sudo ln -sfn ', KAGGLE_WORKING_PATH, ' ', file.path('..', 'working')),\n",
        "  intern=TRUE)\n",
        "\n",
        "data_source_mappings = strsplit(DATA_SOURCE_MAPPING, ',')[[1]]\n",
        "for (data_source_mapping in data_source_mappings) {\n",
        "    path_and_url = strsplit(data_source_mapping, ':')\n",
        "    directory = path_and_url[[1]][1]\n",
        "    download_url = URLdecode(path_and_url[[1]][2])\n",
        "    filename = sub(\"\\\\?.+\", \"\", download_url)\n",
        "    destination_path = file.path(KAGGLE_INPUT_PATH, directory)\n",
        "    print(paste0('Downloading and uncompressing: ', directory))\n",
        "    if (endsWith(filename, '.zip')){\n",
        "      temp = tempfile(fileext = '.zip')\n",
        "      download.file(download_url, temp)\n",
        "      unzip(temp, overwrite = TRUE, exdir = destination_path)\n",
        "      unlink(temp)\n",
        "    }\n",
        "    else{\n",
        "      temp = tempfile(fileext = '.tar')\n",
        "      download.file(download_url, temp)\n",
        "      untar(temp, exdir = destination_path)\n",
        "      unlink(temp)\n",
        "    }\n",
        "    print(paste0('Downloaded and uncompressed: ', directory))\n",
        "}\n",
        "\n",
        "print(paste0('Data source import complete'))\n"
      ],
      "metadata": {
        "id": "4M-Zv2JdYsPg"
      },
      "cell_type": "code",
      "outputs": [],
      "execution_count": null
    },
    {
      "cell_type": "markdown",
      "source": [
        "# <font color='plum'> Our Journey's Itinerary </font>\n",
        "\n",
        "## <font color='plum'> The Main Questions </font>\n",
        "\n",
        "* Are there currently trends happening in specific groups of children? Is there a prevalence increase in Autism?\n",
        "* What will the population of autistic adults look like in 5 years?\n",
        "* What should we as a society prepare ourselves for?\n",
        "\n",
        "Those and *many* other questions are going to be addressed here.  This journey is going to begin in 2000 and bring us as close to a 5 year outlook as we can go! We will be using a few variables:\n",
        "* Data collected by the CDC (specifically ADDM National Data)\n",
        "* Lifespan data collected by the CDC (for both total Americans and the ASD community)\n",
        "\n",
        "I will *also* be working a few known assumptions:\n",
        "* This is based on data collected over time.  There have been groups of Americans either non- or under-represented\n",
        "* I am using the 22 year age range as that transitional time when children become adults.\n",
        "* There is not a single way that children are diagnosed.  Different regions use different ways to diagnose children.  \n",
        "\n",
        "Some of these things seem obvious - others may not.  \n",
        "\n",
        "## <font color='plum'> Method of Analysis </font>\n",
        "\n",
        "Barring any unforeseen anomalies, the plan is to go through the following steps:\n",
        "* Gather CDC data from 2000 to at least 2020.\n",
        "* Determine if there is any sort of trending between ethnic or gender groups.\n",
        "* Conclude and determine next steps\n",
        "\n"
      ],
      "metadata": {
        "id": "Ba4M44LNYsPi"
      }
    },
    {
      "cell_type": "markdown",
      "source": [
        "## <font color='plum'> Set up the environment </font>"
      ],
      "metadata": {
        "id": "u9wMYRJpYsPi"
      }
    },
    {
      "cell_type": "code",
      "source": [
        "# We have a few things that we need to load and gather before we start this off:\n",
        "# Standard packages (tidyverse) should be installed\n",
        "install.packages(\"tidyverse\")\n",
        "install.packages(\"janitor\")\n",
        "\n",
        "# There are several ways to get at the correct packages - but this will simplify:\n",
        "library(tidyverse)\n",
        "library(readr)\n",
        "library(dplyr)\n",
        "library(janitor)\n",
        "library(tidyselect)\n",
        "library(ggplot2)"
      ],
      "metadata": {
        "execution": {
          "iopub.status.busy": "2024-03-01T23:18:46.946486Z",
          "iopub.execute_input": "2024-03-01T23:18:46.990413Z",
          "iopub.status.idle": "2024-03-01T23:19:13.174606Z"
        },
        "trusted": true,
        "id": "cu4A0Mt-YsPi"
      },
      "execution_count": null,
      "outputs": []
    },
    {
      "cell_type": "markdown",
      "source": [
        "We now have the tools we need to begin.  The data are going to be another item worth poking at.  I will be using data from data.gov as our primary source of our analysis for a national breakdown. A regional breakdown will be\n",
        "\n",
        "The specific data that we are first loading is data.gov's [Autism and Developmental Disabilities Monitoring Network](https://www.cdc.gov/ncbddd/autism/data/assets/exceldata/ADV_AllData.xlsx)."
      ],
      "metadata": {
        "id": "1QjU_QoLYsPj"
      }
    },
    {
      "cell_type": "code",
      "source": [
        "# In order to load the csv into RStudio and get at autism specific data we have to locate the correct data from the ADDM\n",
        "# After uploading the data file into RStudio, we can use the readxl package and use the read_excel function to bring the data into a dataframe\n",
        "install.packages(\"readxl\")\n",
        "library(readxl)\n",
        "\n",
        "autism_prev <- read_excel(\"/kaggle/input/autism-files/Prev.xlsx\") #national biological sex data\n",
        "autism_prev_ethnic <- read_excel(\"/kaggle/input/autism-files/prev_ethnic.xlsx\") #national ethnic data data\n",
        "\n",
        "# We now have specific data for national autism prevalence between 2000 and 2020\n",
        "head(autism_prev)\n",
        "head(autism_prev_ethnic)"
      ],
      "metadata": {
        "execution": {
          "iopub.status.busy": "2024-03-01T23:19:13.177579Z",
          "iopub.execute_input": "2024-03-01T23:19:13.179606Z",
          "iopub.status.idle": "2024-03-01T23:19:48.964177Z"
        },
        "trusted": true,
        "id": "BatjSlm9YsPj"
      },
      "execution_count": null,
      "outputs": []
    },
    {
      "cell_type": "markdown",
      "source": [
        "Now that we have the basic data, we can clean it by making the column titles a bit more readable.\n",
        "\n",
        "We have the following definitions of our variables:\n",
        "\n",
        "## <font color='plum'> National Data </font>\n",
        "\n",
        "**autism_prev**\n",
        "\n",
        "*note - this dataset is missing values as the data were not collected during certain years or for certain subgroups*\n",
        "* “year” variable: the year the data are reporting on\n",
        "* “prevalence”: the frequency of autism per 1,000 children.  \n",
        "* \"biological_sex\": whether the child was born as male or female\n",
        "\n",
        "**autism_prev_ethic**\n",
        "\n",
        "Biological sex and ethnic background are also accounted for in this dataset\n",
        "* “year” variable: the year the data are reporting on\n",
        "* “prevalence”: the frequency of autism per 1,000 children.  \n",
        "* \"ethnic_group\": ethnicity of the child (listed at birth) <font color='plum'>**NOTE**</font> there is a possibility that this is a reason that we do not see \"multiracial\" children listed until much later in the timeline.\n"
      ],
      "metadata": {
        "id": "zfd4tFgIYsPj"
      }
    },
    {
      "cell_type": "markdown",
      "source": [
        "## <font color='plum'> Graphical representation </font>\n",
        "From 2000 to 2020 we have data to graphically represent the change in prevalence for children based on biological sex."
      ],
      "metadata": {
        "id": "u8jeTzUeYsPj"
      }
    },
    {
      "cell_type": "code",
      "source": [
        "# To differentiate between biological sex prevalence in children (Historical)\n",
        "ggplot(data=autism_prev) +\n",
        "  geom_point(mapping = aes(x=year,y=prevalence, color=biological_sex)) +\n",
        "  geom_smooth(mapping = aes(x=year,y=prevalence, color=biological_sex), method=lm,na.rm = TRUE) +\n",
        "  labs(title = \"Autism Prevalence: 2000 through 2020\", subtitle = \"Difference between Biological Sexes\", y=\"Prevalence\", x=\"Year\", caption = \"Data collected by ADDM/CDC\", color=\"Biological Sex\")"
      ],
      "metadata": {
        "execution": {
          "iopub.status.busy": "2024-03-01T23:19:49.155822Z",
          "iopub.execute_input": "2024-03-01T23:19:49.157353Z",
          "iopub.status.idle": "2024-03-01T23:19:51.372292Z"
        },
        "trusted": true,
        "id": "gC6tCMLgYsPj"
      },
      "execution_count": null,
      "outputs": []
    },
    {
      "cell_type": "markdown",
      "source": [
        "**We also have data for various ethnic groups. Due to the limited quantity of data, proper trend analysis would be inconclusive at best (wrong at worst).  I will show the image but PLEASE remember this huge caveat.**"
      ],
      "metadata": {
        "id": "SZ60UjqzYsPj"
      }
    },
    {
      "cell_type": "code",
      "source": [
        "# To differentiate between ethnic group prevalence in children (Historical)\n",
        "# due to the lack of data (for unrepresented groups) a smooth line was used to show exactly when data became available\n",
        "ggplot(data=autism_prev_ethnic) +\n",
        "  geom_point(mapping = aes(x=year,y=prevalence, color=ethnic_group)) +\n",
        "  geom_smooth(mapping = aes(x=year,y=prevalence, color=ethnic_group), na.rm = TRUE) +\n",
        "  labs(title = \"Autism Prevalence: 2000 through 2020\", subtitle = \"Difference between Ethnic Groups\", y=\"Prevalence\", x=\"Year\", caption = \"Data collected by ADDM/CDC\", color=\"Ethnic Groups\")"
      ],
      "metadata": {
        "execution": {
          "iopub.status.busy": "2024-03-01T23:19:51.37522Z",
          "iopub.execute_input": "2024-03-01T23:19:51.376706Z",
          "iopub.status.idle": "2024-03-01T23:19:51.997073Z"
        },
        "trusted": true,
        "id": "dvSv3kkxYsPk"
      },
      "execution_count": null,
      "outputs": []
    },
    {
      "cell_type": "markdown",
      "source": [
        "## <font color='plum'> Decision point </font>\n",
        "![image.png](attachment:f83376ff-25c8-4552-80a9-bbda283ac46e.png)\n",
        "\n",
        "To move forward with national trend analysis - we are going to focus on trending based on biological sex rather than ethnic backgound.  There are too many data elements that could lead to incorrect conclusions when handling data based on ethnic background.  \n",
        "\n",
        "<font color='plum'>**Conclusion 1**:\n",
        "Not enough data collection has been done across all Americans, the data we do have could be biased. The next steps here would be to reach out to advocacy groups to collect more data. </font>"
      ],
      "metadata": {
        "id": "1B176GN1YsPk"
      }
    },
    {
      "cell_type": "markdown",
      "source": [
        "## <font color='plum'> Trend analysis based on biological sex </font>\n",
        "\n",
        "In order to move forward, I will use the historical data to determine how best to gain a trend analysis.\n",
        "Based on the previous data, there is a trend for both biological sexes.\n",
        "\n",
        "The next step is to isolate the data between male and female"
      ],
      "metadata": {
        "id": "YYyYpC_nYsPk"
      }
    },
    {
      "cell_type": "code",
      "source": [
        "# Creating male and female specific data.frames\n",
        "male_prev <- filter(autism_prev,biological_sex == \"Male\")\n",
        "female_prev <- filter(autism_prev,biological_sex == \"Female\")\n",
        "\n",
        "head(male_prev)\n",
        "head(female_prev)"
      ],
      "metadata": {
        "execution": {
          "iopub.status.busy": "2024-03-01T23:19:52.000492Z",
          "iopub.execute_input": "2024-03-01T23:19:52.002135Z",
          "iopub.status.idle": "2024-03-01T23:19:52.06182Z"
        },
        "trusted": true,
        "id": "ljUTeCT1YsPk"
      },
      "execution_count": null,
      "outputs": []
    },
    {
      "cell_type": "markdown",
      "source": [
        "Due to data limitations, I am obligated to use the Random Walk Forecast function to get at the next 10 male and female values.\n",
        "\n",
        "**<font color=\"red\">THIS IS LESS THAN IDEAL</font>**"
      ],
      "metadata": {
        "id": "FkjXXVqYYsPk"
      }
    },
    {
      "cell_type": "code",
      "source": [
        "#install the forecast package\n",
        "install.packages(\"forecast\")\n",
        "library(forecast)\n",
        "\n",
        "# For Male estimates for the next 5 years:\n",
        "rwf(male_prev$prevalence,h=5,drift=TRUE,level = c(80,95),fan = FALSE,lambda = NULL,biasadj = FALSE)\n",
        "\n",
        "# For Female estimates for the next 5 years:\n",
        "rwf(female_prev$prevalence,h=5,drift=TRUE,level = c(80,95),fan = FALSE,lambda = NULL,biasadj = FALSE)"
      ],
      "metadata": {
        "execution": {
          "iopub.status.busy": "2024-03-01T23:19:52.064537Z",
          "iopub.execute_input": "2024-03-01T23:19:52.065998Z",
          "iopub.status.idle": "2024-03-01T23:21:32.677125Z"
        },
        "trusted": true,
        "id": "pok_QN9OYsPk"
      },
      "execution_count": null,
      "outputs": []
    },
    {
      "cell_type": "code",
      "source": [
        "#current and future data\n",
        "autism_future <- read_excel(\"/kaggle/input/autism-files/Prev_future.xlsx\")\n",
        "head(autism_future)\n",
        "\n",
        "#current and future chart\n",
        "ggplot(data=autism_future) +\n",
        "  geom_point(mapping = aes(x=year,y=prevalence, color=biological_sex)) +\n",
        "  geom_smooth(mapping = aes(x=year,y=prevalence, color=biological_sex), method=lm) +\n",
        "  labs(title = \"Autism Prevalence: 2000 through 2025\", y=\"Prevalence\", x=\"Year\", caption = \"Data collected by ADDM/CDC\", color=\"Biological Sex\")"
      ],
      "metadata": {
        "execution": {
          "iopub.status.busy": "2024-03-01T23:21:32.679908Z",
          "iopub.execute_input": "2024-03-01T23:21:32.681411Z",
          "iopub.status.idle": "2024-03-01T23:21:33.214532Z"
        },
        "trusted": true,
        "id": "aoNFKP74YsPk"
      },
      "execution_count": null,
      "outputs": []
    },
    {
      "cell_type": "markdown",
      "source": [
        "## <font color='plum'> Final Conclusion </font>\n",
        "As seen with the data, there is a lot to be desired.  There is spotty data collection by the CDC (and only in 18 states of the US).  As of this initial stab at the questions, 1-36 8 year old children are diagnosed as Autistic.  In no way is this data collection project handling \"why are there so many new diagnoses being made?\" but in preparation for the future, this makes a statement.\n",
        "\n",
        "Many states deem an adult 22 years old or older.  At the rate that autism diagnoses are growing, many of the children diagnosed in 2002 will be aging into adulthood.  While they will no longer be in a public school, there will be additional need for state/federal assistance.\n",
        "\n",
        "\n",
        "### <font color='plum'> Next Steps </font>\n",
        "* Reach out to advocacy groups or locate additional ethnic group based data to continue analysis. (Either nationally or regionally)\n",
        "* Work with other advocates to gather additional data to clean and get a better sense of the upcoming amount of autistic adults."
      ],
      "metadata": {
        "id": "EKdfA3Z8YsPk"
      }
    },
    {
      "cell_type": "markdown",
      "source": [
        "Sources:\n",
        "[The Autism and Developmental Disabilities Monitoring (ADDM) Network (CDC.gov)](https://www.cdc.gov/ncbddd/autism/data/index.html#data)"
      ],
      "metadata": {
        "id": "CxiAbo80YsPk"
      }
    }
  ]
}